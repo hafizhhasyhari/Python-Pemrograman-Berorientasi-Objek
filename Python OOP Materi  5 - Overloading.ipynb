{
 "cells": [
  {
   "cell_type": "markdown",
   "metadata": {},
   "source": [
    "# Overloading"
   ]
  },
  {
   "cell_type": "markdown",
   "metadata": {},
   "source": [
    "<img src=\"img/overloading.png\">\n",
    "Overloading adalah sebuah method yang memiliki parameter dan method tersebut bisa mempunyai nama method yang sama dengan method yang lain dengan syarat jumlah parameter harus berbeda, atau dengan kata lain situasi di mana beberapa method dalam sebuah class dapat mempunyai nama yang sama tetapi berbeda jenis parameter,jumlah parameter, dan/atau jenis return value.\n",
    "\n",
    "Lebih Jelasnya Overloading secara singkat :\n",
    "- Nama method boleh sama , tetapi jumlah parameter harus berbeda\n",
    "- Nilai yang direturn harus memiliki tipe yang sama\n",
    "\n",
    "<b>Overloading Method</b> \n",
    "<br>Overloading method adalah method yang memiliki nama yang sama dengan method yang lain di dalam suatu class, namun dengan jumlah dan tipe argumen yang berbeda sehingga dapat melakukan beberapa hal yang berbeda. Singkatnya, Penugasan lebih dari satu perilaku ke method tertentu. Operasi yang dilakukan bervariasi menurut jenis object atau argumen yang terlibat.\n",
    "\n",
    "<b>Overloading operator</b> \n",
    "<br>Overloading operator adalah pembuatan beberapa kegunaan ataupun fungsi kepada sebuah operator. Misalnya operator + dibuat tidak hanya untuk penjumlahan, tetapi juga untuk fungsi lain."
   ]
  },
  {
   "cell_type": "code",
   "execution_count": 1,
   "metadata": {},
   "outputs": [
    {
     "name": "stdout",
     "output_type": "stream",
     "text": [
      "4 / 5\n",
      "4/5\n",
      "31/20\n",
      "12/20\n"
     ]
    }
   ],
   "source": [
    "class Fraction:\n",
    "    \n",
    "    def __init__(self,top,bottom):\n",
    "        self.num = top\n",
    "        self.den = bottom\n",
    "    def show(self):\n",
    "        print(self.num,\"/\",self.den)\n",
    "    def __str__(self):\n",
    "        return str(self.num)+\"/\"+str(self.den)\n",
    "    def __add__(self, otherfraction):\n",
    "        newnum = self.num*otherfraction.den + self.den*otherfraction.num\n",
    "        newden = self.den * otherfraction.den\n",
    "        return Fraction(newnum,newden)\n",
    "    def __mul__(self, otherfraction):\n",
    "        newnum = self.num * otherfraction.num\n",
    "        newden = self.den * otherfraction.den\n",
    "        return Fraction(newnum,newden)\n",
    "\n",
    "f1 = Fraction(4,5)\n",
    "f1.show()\n",
    "print(f1)\n",
    "f2 = Fraction(3,4)\n",
    "print(f1+f2)\n",
    "print(f1*f2)"
   ]
  },
  {
   "cell_type": "code",
   "execution_count": 12,
   "metadata": {},
   "outputs": [
    {
     "name": "stdout",
     "output_type": "stream",
     "text": [
      "Point object is at: (3,1)\n"
     ]
    }
   ],
   "source": [
    "class Point:\n",
    "    def __init__(self,x=0,y=0):\n",
    "        self.x = x\n",
    "        self.y = y\n",
    "    #def __str__(self):\n",
    "    #    return \"({0},{1})\".format(self.x,self.y)\n",
    "    def __str__(self):\n",
    "        return \"Point object is at: (\" + str(self.x) + \",\" + str(self.y) + \")\"\n",
    "    def __add__(self,other):\n",
    "        x = self.x - other.x\n",
    "        y = self.y - other.y\n",
    "        return Point(x,y)\n",
    "p1 = Point(2,3)\n",
    "p2 = Point(-1,2)\n",
    "print(p1+p2)"
   ]
  },
  {
   "cell_type": "code",
   "execution_count": 23,
   "metadata": {},
   "outputs": [
    {
     "name": "stdout",
     "output_type": "stream",
     "text": [
      "8\n"
     ]
    }
   ],
   "source": [
    "class Point:\n",
    "    def __init__(self,x=0,y=0):\n",
    "        self.x = x\n",
    "        self.y = y\n",
    "    #def __str__(self):\n",
    "    #    return \"({0},{1})\".format(self.x,self.y)\n",
    "    def __str__(self):\n",
    "        return \"Point object is at: (\" + str(self.x) + \",\" + str(self.y) + \")\"\n",
    "    def __sub__(self,other):\n",
    "        x = self.x - other.x \n",
    "        y = self.y - other.y\n",
    "        return Point(x,y)\n",
    "    \n",
    "p1 = Point(9,1)\n",
    "p2 = Point(1,1)\n",
    "print(p1-p2)"
   ]
  },
  {
   "cell_type": "code",
   "execution_count": 25,
   "metadata": {},
   "outputs": [
    {
     "name": "stdout",
     "output_type": "stream",
     "text": [
      "Hello\n",
      "HelloGiudo\n"
     ]
    }
   ],
   "source": [
    "#Method Overloading\n",
    "class Human:\n",
    "    def sayHello(self,name=None):\n",
    "        if name is not None:\n",
    "            print(\"Hello\"+name)\n",
    "        else:\n",
    "            print(\"Hello\")\n",
    "#Create instance\n",
    "obj = Human()\n",
    "\n",
    "#Call the method\n",
    "obj.sayHello()\n",
    "\n",
    "#Call the method with a parameter\n",
    "obj.sayHello('Giudo')"
   ]
  }
 ],
 "metadata": {
  "kernelspec": {
   "display_name": "Python 3",
   "language": "python",
   "name": "python3"
  },
  "language_info": {
   "codemirror_mode": {
    "name": "ipython",
    "version": 3
   },
   "file_extension": ".py",
   "mimetype": "text/x-python",
   "name": "python",
   "nbconvert_exporter": "python",
   "pygments_lexer": "ipython3",
   "version": "3.6.5"
  }
 },
 "nbformat": 4,
 "nbformat_minor": 2
}
