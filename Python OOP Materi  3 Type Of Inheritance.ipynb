{
 "cells": [
  {
   "cell_type": "markdown",
   "metadata": {},
   "source": [
    "# Type of Inheritance"
   ]
  },
  {
   "cell_type": "markdown",
   "metadata": {},
   "source": [
    "- Default(pass) : adalah menurunkan semua properti dan method dari class induk (parent class) ke anak class (subclass)<img src=\"img/single.png\" width=\"350\" height=\"350\">\n",
    "- Override : mengganti / memodifikasi properti atau method ataupun properti dan method yang diturunkan dari class induk (parent class)<img src=\"img/override.png\" width=\"350\" height=\"350\">\n",
    "- Super : menambahkan properti dari class induk (parent class) -> boleh memakai super() ataupun nama class induknya\n",
    "- Multiple Inheritance : adalah ketika subclass memakai atau menambahkan properti / method dari 2 atau lebih class lain<img src=\"img/multiple.gif\" width=\"350\" height=\"350\">"
   ]
  },
  {
   "cell_type": "code",
   "execution_count": 3,
   "metadata": {},
   "outputs": [
    {
     "name": "stdout",
     "output_type": "stream",
     "text": [
      "The fish is swimming\n",
      "The fish can swim backwards\n",
      "The fish is swimming\n",
      "The fish can swim backwards\n",
      "The clownfish is coexsiting with sea anemone\n"
     ]
    }
   ],
   "source": [
    "#Contoh Default\n",
    "class Fish:\n",
    "    def __init__(self, first_name, last_name=\"Fish\", skeleton=\"bone\", eyelids=False):\n",
    "        self.first_name = first_name\n",
    "        self.last_name = last_name\n",
    "        self.skeleton = skeleton\n",
    "        self.eyelids = eyelids\n",
    "    def swim(self):\n",
    "        print(\"The fish is swimming\")\n",
    "    def swim_backwards(self):\n",
    "        print(\"The fish can swim backwards\")\n",
    "class Trout(Fish):\n",
    "    pass\n",
    "class Clownfish(Fish):\n",
    "    def live_with_anemone(self):\n",
    "        print(\"The clownfish is coexsiting with sea anemone\")\n",
    "        \n",
    "trout1 = Trout(\"Trout\")\n",
    "trout1.swim()\n",
    "trout1.swim_backwards()\n",
    "clownfish1 = Clownfish(\"Clownfish\")\n",
    "clownfish1.swim()\n",
    "clownfish1.swim_backwards()\n",
    "clownfish1.live_with_anemone()"
   ]
  },
  {
   "cell_type": "code",
   "execution_count": 3,
   "metadata": {},
   "outputs": [
    {
     "name": "stdout",
     "output_type": "stream",
     "text": [
      "The shark cannot swim backwards, but can sink backwards.\n"
     ]
    }
   ],
   "source": [
    "#Contoh Overriding 1\n",
    "class Fish:\n",
    "    def __init__(self, first_name, last_name=\"Fish\", skeleton=\"bone\", eyelids=False):\n",
    "        self.first_name = first_name\n",
    "        self.last_name = last_name\n",
    "        self.skeleton = skeleton\n",
    "        self.eyelids = eyelids\n",
    "\n",
    "    def swim(self):\n",
    "        print(\"The fish is swimming.\")\n",
    "\n",
    "    def swim_backwards(self):\n",
    "        print(\"The fish can swim backwards.\")\n",
    "\n",
    "class Shark(Fish):\n",
    "    def __init__(self, first_name, last_name=\"Shark\", skeleton=\"cartilage\", eyelids=True):\n",
    "        self.first_name = first_name\n",
    "        self.last_name = last_name\n",
    "        self.skeleton = skeleton\n",
    "        self.eyelids = eyelids\n",
    "    def swim_backwards(self):\n",
    "        print(\"The shark cannot swim backwards, but can sink backwards.\")\n",
    "        \n",
    "hiu = Shark(\"hiu besar\")\n",
    "hiu.swim_backwards()        "
   ]
  },
  {
   "cell_type": "code",
   "execution_count": 2,
   "metadata": {},
   "outputs": [
    {
     "name": "stdout",
     "output_type": "stream",
     "text": [
      "4 Persegi\n",
      "Persegi memiliki 4 sisi yang sama panjang\n",
      "4 Pesegi Panjang\n",
      "Ada 2 pasang yang mempunyai panjang sisi yang sama\n",
      "4 Bujur Sangkar\n",
      "Keempatnya sama panjang\n"
     ]
    }
   ],
   "source": [
    "#Contoh Overriding 2\n",
    "class Persegi:\n",
    "    def __init__(self,sisi = 4,bentuk = \"Persegi\"):\n",
    "        self.sisi = sisi\n",
    "        self.bentuk = bentuk\n",
    "    def display(self):\n",
    "        print(self.sisi,self.bentuk)\n",
    "    def deskripsi(self):\n",
    "        print(\"Persegi memiliki 4 sisi yang sama panjang\")\n",
    "        \n",
    "class PersegiPanjang(Persegi):\n",
    "    def __init__(self, sisi = 4, bentuk = \"Pesegi Panjang\"):\n",
    "        self.sisi = sisi\n",
    "        self.bentuk = bentuk\n",
    "    def deskripsi(self):\n",
    "        print(\"Ada 2 pasang yang mempunyai panjang sisi yang sama\")\n",
    "\n",
    "class BujurSangkar(Persegi):\n",
    "    def __init__(self, sisi = 4, bentuk = \"Bujur Sangkar\"):\n",
    "        self.sisi = sisi\n",
    "        self.bentuk = bentuk\n",
    "    def deskripsi(self):\n",
    "        print(\"Keempatnya sama panjang\")\n",
    "\n",
    "A = Persegi()\n",
    "A.display()\n",
    "A.deskripsi()\n",
    "B = PersegiPanjang()\n",
    "B.display()\n",
    "B.deskripsi()\n",
    "C = BujurSangkar()\n",
    "C.display()\n",
    "C.deskripsi()"
   ]
  },
  {
   "cell_type": "code",
   "execution_count": 4,
   "metadata": {},
   "outputs": [
    {
     "name": "stdout",
     "output_type": "stream",
     "text": [
      "Terry Fish\n",
      "False\n",
      "freshwater\n",
      "The fish is swimming\n"
     ]
    }
   ],
   "source": [
    "#Contoh Super 1\n",
    "class Fish:\n",
    "    def __init__(self, first_name, last_name=\"Fish\", skeleton=\"bone\", eyelids=False):\n",
    "        self.first_name = first_name\n",
    "        self.last_name = last_name\n",
    "        self.skeleton = skeleton\n",
    "        self.eyelids = eyelids\n",
    "    def swim(self):\n",
    "        print(\"The fish is swimming\")\n",
    "    def swim_backwards(self):\n",
    "        print(\"The fish can swim backwards\")\n",
    "class Trout(Fish): \n",
    "    def __init__(self, water = \"freshwater\"): \n",
    "        self.water = water \n",
    "        super().__init__(self) \n",
    "        #Fish.__init__(self)\n",
    "terry = Trout() \n",
    "terry.first_name = \"Terry\" \n",
    "print(terry.first_name + \" \" + terry.last_name) \n",
    "print(terry.eyelids) \n",
    "print(terry.water) \n",
    "terry.swim() "
   ]
  },
  {
   "cell_type": "code",
   "execution_count": 8,
   "metadata": {},
   "outputs": [
    {
     "name": "stdout",
     "output_type": "stream",
     "text": [
      "shark\n"
     ]
    }
   ],
   "source": [
    "#Contoh Super 2\n",
    "class Fish:\n",
    "    def __init__(self, first_name, last_name=\"Fish\", skeleton=\"bone\", eyelids=False):\n",
    "        self.first_name = first_name\n",
    "        self.last_name = last_name\n",
    "        self.skeleton = skeleton\n",
    "        self.eyelids = eyelids\n",
    "    def swim(self):\n",
    "        print(\"The fish is swimming\")\n",
    "    def swim_backwards(self):\n",
    "        print(\"The fish can swim backwards\")\n",
    "class Trout(Fish):\n",
    "        def __init__(self,water,first_name, last_name,skeleton,eyelids):\n",
    "            self.water = water\n",
    "            Fish.__init__(self,first_name, last_name,skeleton, eyelids)\n",
    "            #super().__init__(self,first_name, last_name,skeleton, eyelids)\n",
    "\n",
    "terry = Trout(\"freshwater\",\"shark\",\"fish\",\"no bone\",\"true\")\n",
    "print(terry.first_name)"
   ]
  },
  {
   "cell_type": "code",
   "execution_count": 1,
   "metadata": {},
   "outputs": [
    {
     "name": "stdout",
     "output_type": "stream",
     "text": [
      "nama : hendrik\n",
      "Npm : 057\n",
      "Nilai\n",
      "Math: 87\n",
      "Biology: 90\n",
      "nama : ksdj\n",
      "Npm : 0839\n",
      "Nilai\n",
      "Math: 80\n",
      "Biology: 70\n",
      "\n",
      "\n",
      "Name:  hendrik\n",
      "Npm:  057\n",
      "Nilai:  177\n",
      "\n",
      "\n",
      "Name:  ksdj\n",
      "Npm:  0839\n",
      "Nilai:  150\n"
     ]
    }
   ],
   "source": [
    "#Contoh Multiple Inheritance 1\n",
    "class person:\n",
    "    def __init__(self):\n",
    "        self.name = input(\"nama : \")\n",
    "    \n",
    "    def display(self):\n",
    "        print(\"\\n\\nName: \", self.name)\n",
    "\n",
    "class marks:\n",
    "    def __init__(self):\n",
    "        self.npm = input(\"Npm : \")\n",
    "        print(\"Nilai\")\n",
    "        self.math = int(input(\"Math: \"))\n",
    "        self.biology = int(input(\"Biology: \"))\n",
    "    \n",
    "    def display(self):\n",
    "        print(\"Npm: \", self.npm)\n",
    "        print(\"Nilai: \", self.math + self.biology)\n",
    "\n",
    "class student(person, marks):\n",
    "    def __init__(self):\n",
    "        person.__init__(self)\n",
    "        marks.__init__(self)\n",
    "    \n",
    "    def result(self):\n",
    "        person.display(self)\n",
    "        marks.display(self)\n",
    "\n",
    "stu1 = student()\n",
    "stu2 = student()\n",
    "stu1.result()\n",
    "stu2.result()"
   ]
  },
  {
   "cell_type": "code",
   "execution_count": 9,
   "metadata": {},
   "outputs": [
    {
     "name": "stdout",
     "output_type": "stream",
     "text": [
      "Coral lives in a community.\n",
      "The anemone is protecting the clownfish.\n"
     ]
    }
   ],
   "source": [
    "# Contoh Multiple Inheritance 2\n",
    "class Coral: \n",
    "    def community(self): \n",
    "        print(\"Coral lives in a community.\") \n",
    "\n",
    "class Anemone: \n",
    "    def protect_clownfish(self): \n",
    "        print(\"The anemone is protecting the clownfish.\") \n",
    "\n",
    "class CoralReef(Coral, Anemone): \n",
    "    pass \n",
    "\n",
    "great_barrier = CoralReef() \n",
    "great_barrier.community() \n",
    "great_barrier.protect_clownfish() "
   ]
  },
  {
   "cell_type": "code",
   "execution_count": null,
   "metadata": {},
   "outputs": [],
   "source": [
    "#Contoh Multiple Inheritance 3\n",
    "class Murid:\n",
    "    \n",
    "    def __init__(self):\n",
    "        self.nama = input(\"Nama: \")\n",
    "        \n",
    "    def display(self):\n",
    "        print(\"Nama: \",self.nama)\n",
    "   \n",
    "class NilaiPelajaran:\n",
    " \n",
    "    def __init__(self):\n",
    "        print(\"Nilai Pelajaran\")\n",
    "        self.math = int(input(\"Math: \"))\n",
    "        self.biology = int(input(\"Biology: \"))\n",
    "   \n",
    "    def display(self):\n",
    "        print(\"Rata2 Nilai: \", (self.math + self.biology)/2 )\n",
    "        \n",
    "\n",
    "\n",
    "class student(Murid, NilaiPelajaran):\n",
    "    def __init__(self):\n",
    "        Murid.__init__(self)\n",
    "        NilaiPelajaran.__init__(self)\n",
    "        \n",
    "    def result(self):\n",
    "        Murid.display(self)\n",
    "        NilaiPelajaran.display(self)\n",
    "        \n",
    "\n",
    "stu1 = student()\n",
    "stu2 = student()\n",
    "\n",
    "stu1.result()\n",
    "stu2.result()"
   ]
  },
  {
   "cell_type": "code",
   "execution_count": null,
   "metadata": {},
   "outputs": [],
   "source": []
  }
 ],
 "metadata": {
  "kernelspec": {
   "display_name": "Python 3",
   "language": "python",
   "name": "python3"
  },
  "language_info": {
   "codemirror_mode": {
    "name": "ipython",
    "version": 3
   },
   "file_extension": ".py",
   "mimetype": "text/x-python",
   "name": "python",
   "nbconvert_exporter": "python",
   "pygments_lexer": "ipython3",
   "version": "3.6.5"
  }
 },
 "nbformat": 4,
 "nbformat_minor": 2
}
