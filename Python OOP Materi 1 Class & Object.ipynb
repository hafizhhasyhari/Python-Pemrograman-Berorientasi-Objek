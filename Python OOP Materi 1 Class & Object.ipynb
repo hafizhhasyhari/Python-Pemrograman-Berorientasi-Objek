{
 "cells": [
  {
   "cell_type": "markdown",
   "metadata": {},
   "source": [
    "# Class & Object"
   ]
  },
  {
   "cell_type": "markdown",
   "metadata": {},
   "source": [
    "<img src=\"img/class.png\">\n",
    "\n",
    "-Pengertian Class :\n",
    "- Class adalah Struktur data yang digunakan untuk mendefinisikan object yang menyimpan data beserta nilai-nilai dan perilakunya (behavior).\n",
    "- Class adalah suatu entitas yang merupakan bentuk program dari suatu abstraksi untuk permasalahan dunia nyata, dan instans dari class merupakan realisasi dari beberapa objek.\n",
    "- Class adalah wadah/cetakan untuk menciptakan object-object\n",
    "- Class adalah Struktur data yang bisa digunakan untuk membuat object.\n",
    "\n",
    "-Pengertian Instance (Instansiasi) :\n",
    "- Instance(Instansiasi) dari class : Jika class secara umum merepresentasikan (template) sebuah object, maka sebuah instance adalah representasi nyata dari class itu sendiri.\n",
    "\n",
    "-Pengertian Object :\n",
    "- Object adalah Class yang sudah diisi.\n",
    "- Object adalah Hasil ciptaan dari class.\n",
    "<img src=\"img/object.jpg\">\n",
    "<img src=\"img/classvsobject.png\" width=\"300\" height=\"300\"><img src=\"img/dog.jpg\">\n",
    "\n",
    "-Pengertian Property:\n",
    "- Property adalah atribut-atribut.\n",
    "\n",
    "-Pengertian Method :\n",
    "- Method adalah cara memperkerjakan atribut-atribut tersebut.\n",
    "\n",
    "Contoh Properti dan Method:\n",
    "1. Class Mahasiswa\n",
    "   - Property : NIM, NAMA\n",
    "   - Method : Mengambil mata kuliah, mengisi KRS\n",
    "2. Class Mata Kuliah\n",
    "   - Property : Kode, Nama Matkul\n",
    "   - Method : UTS, UAS, Tugas\n",
    "3. Class Pegawai\n",
    "   - Property : Nama, Jabatan\n",
    "   - Method : Gaji, Data Pegawai\n",
    "4. Class Mobil\n",
    "   - Property : CC\n",
    "   - Method : Kecepatan\n",
    "\n",
    "Cara penulisan Class:\n",
    "    1. Keyword class diikuti dengan nama class yang diinginkan. Disarankan ditulis dengan awalan huruf kapital.\n",
    "\n",
    "    2. Membuat constructor dengan menggunakan method bawaan Python yang bernama init.           \n",
    "       Method __init__() adalah method constructor, yaitu method khusus yang digunakan Python untuk    menginisialisasi pembuatan object dari class tersebut. \n",
    "\n",
    "    3. Setiap method harus memiliki parameter self, yang artinya method tersebut dimiliki oleh class  tersebut untuk membedakan dari method atau fungsi yang ada di luar class.\n",
    "\n",
    "    4. Cara mengakses method dari object adalah dengan menggunakan operator titik\n",
    "    \n",
    "    5. Pada saat membuat objek, argumen dari objek harus sesuai dengan fungsi __init__() class yang dipakai oleh object."
   ]
  },
  {
   "cell_type": "code",
   "execution_count": 5,
   "metadata": {},
   "outputs": [
    {
     "name": "stdout",
     "output_type": "stream",
     "text": [
      "4\n",
      "Luas=  16\n",
      "Volume=  64\n",
      "Luas Permukaan =  96\n"
     ]
    }
   ],
   "source": [
    "class Kubus:\n",
    "    def __init__(self,s): #constructor dari python\n",
    "        self.sisi = s\n",
    "    \n",
    "    def tampilkansisi(self):\n",
    "        print(self.sisi)\n",
    "    \n",
    "    def luas(self):\n",
    "        print(\"Luas= \", self.sisi ** 2)\n",
    "    \n",
    "    def volume(self):\n",
    "        print(\"Volume= \", self.sisi ** 3)\n",
    "        \n",
    "    def luaspermukaan(self):\n",
    "        print(\"Luas Permukaan = \", (self.sisi**2)*6)\n",
    "\n",
    "Kubus1 = Kubus(4) \n",
    "Kubus1.tampilkansisi()\n",
    "Kubus1.luas()\n",
    "Kubus1.volume()\n",
    "Kubus1.luaspermukaan()"
   ]
  },
  {
   "cell_type": "code",
   "execution_count": 7,
   "metadata": {},
   "outputs": [
    {
     "name": "stdout",
     "output_type": "stream",
     "text": [
      "adi , admin dan 150000\n"
     ]
    }
   ],
   "source": [
    "class Pegawai:\n",
    "    def __init__(self,n,j,g):\n",
    "        self.nama = n \n",
    "        self.jabatan = j\n",
    "        self.gaji = g\n",
    "    \n",
    "    def tampilkan(self):\n",
    "        print(self.nama,\",\", self.jabatan,\"dan\", self.gaji*30)\n",
    "        \n",
    "p1 = Pegawai(\"adi\",\"admin\", 5000)\n",
    "p1.tampilkan()\n",
    "        "
   ]
  },
  {
   "cell_type": "code",
   "execution_count": 20,
   "metadata": {},
   "outputs": [
    {
     "name": "stdout",
     "output_type": "stream",
     "text": [
      "Nama =  Hendrik \n",
      "NIM =  170411100057\n",
      "IPK =  3.56 \n",
      "Predikat = Cumlaude\n"
     ]
    }
   ],
   "source": [
    "class Mahasiswa:\n",
    "    def __init__(self,nim,nama,ipk):\n",
    "        self.nim = nim\n",
    "        self.nama = nama\n",
    "        self.ipk = ipk\n",
    "    \n",
    "    def tampilkan(self):\n",
    "        print(\"Nama = \", self.nama,\"\\nNIM = \", self.nim)\n",
    "    \n",
    "    def predikat(self):\n",
    "        if self.ipk >= 3.5:\n",
    "            print(\"IPK = \", self.ipk,\"\\nPredikat = Cumlaude\")\n",
    "        elif self.ipk < 3.5 and self.ipk >= 3:\n",
    "            print(\"IPK = \", self.ipk,\"\\nPredikat = Sangat Memuaskan\")\n",
    "        elif self.ipk < 3 and self.ipk >= 2.5 :\n",
    "            print(\"IPK = \", self.ipk,\"\\nPredikat = Memuaskan\")\n",
    "        elif self.ipk < 2.5 and self.ipk >= 2 :\n",
    "            print(\"IPK = \", self.ipk,\"\\nPredikat = Memuaskan\")\n",
    "        elif self.ipk < 2:\n",
    "            print(\"IPK = \", self.ipk,\"\\nPredikat = Tidak Lulus\")\n",
    "\n",
    "hndrk = Mahasiswa(\"170411100057\",\"Hendrik\",3.56)\n",
    "hndrk.tampilkan()\n",
    "hndrk.predikat()"
   ]
  },
  {
   "cell_type": "code",
   "execution_count": 21,
   "metadata": {},
   "outputs": [
    {
     "name": "stdout",
     "output_type": "stream",
     "text": [
      "No Nasabah :  00057 \n",
      "Nama =  Hendrik \n",
      "Norek =  22700057\n",
      "No Nasabah :  00130 \n",
      "Nama =  Kacung \n",
      "Norek =  22700130\n",
      "Uang yang diambil =  300000\n",
      "Saldo saat ini =  700000\n",
      "Uang yang disetor =  500000\n",
      "Saldo saat ini =  1200000\n",
      "Saldo anda saat ini =  1200000\n"
     ]
    }
   ],
   "source": [
    "class Nasabah:\n",
    "    def __init__(self,nn,n,nr):\n",
    "        self.nonasabah =  nn\n",
    "        self.nama = n\n",
    "        self.norek = nr\n",
    "        \n",
    "    def tampilkan(self):\n",
    "        print(\"No Nasabah : \", self.nonasabah, \"\\nNama = \", self.nama, \"\\nNorek = \", self.norek)\n",
    "        \n",
    "class Rekening:\n",
    "    def __init__(self,nr,s):\n",
    "        self.norek = nr\n",
    "        self.saldo = s\n",
    "    \n",
    "    def ambiluang(self, ambil):\n",
    "        self.saldo -= ambil\n",
    "        print(\"Uang yang diambil = \", ambil)\n",
    "        print(\"Saldo saat ini = \", self.saldo)\n",
    "        \n",
    "    def setoruang(self, setor):\n",
    "        self.saldo += setor\n",
    "        print(\"Uang yang disetor = \", setor)\n",
    "        print(\"Saldo saat ini = \", self.saldo)\n",
    "    \n",
    "    def ceksaldo(self):\n",
    "        print(\"Saldo anda saat ini = \", self.saldo)\n",
    "        \n",
    "hndrk = Nasabah('00057', 'Hendrik', '22700057')\n",
    "kcng = Nasabah('00130', 'Kacung', '22700130')\n",
    "\n",
    "hndrk_rek = Rekening('22700057', 1000000)\n",
    "kcng_rek = Rekening('22700130', 750000)\n",
    "\n",
    "hndrk.tampilkan()\n",
    "kcng.tampilkan()\n",
    "\n",
    "hndrk_rek.ambiluang(300000)\n",
    "hndrk_rek.setoruang(500000)\n",
    "hndrk_rek.ceksaldo()"
   ]
  },
  {
   "cell_type": "code",
   "execution_count": 16,
   "metadata": {},
   "outputs": [
    {
     "name": "stdout",
     "output_type": "stream",
     "text": [
      "No :  001 \n",
      "Nama :  Hendrik\n",
      "Umur :  19 Tahun\n",
      "\n",
      "No :  002 \n",
      "Nama :  Rohman\n",
      "Umur :  19 Tahun\n",
      "\n",
      "No :  003 \n",
      "Nama :  Anton\n",
      "Umur :  22 Tahun\n",
      "\n",
      "No :  004 \n",
      "Nama :  Toni\n",
      "Umur :  24 Tahun\n",
      "\n",
      "No :  005 \n",
      "Nama :  Budi\n",
      "Umur :  24 Tahun\n",
      "\n",
      "No :  006 \n",
      "Nama :  Adi\n",
      "Umur :  22 Tahun\n",
      "\n",
      "No :  007 \n",
      "Nama :  Ari\n",
      "Umur :  20 Tahun\n",
      "\n"
     ]
    }
   ],
   "source": [
    "from datetime import date\n",
    "\n",
    "class Pegawai:\n",
    "    def __init__(self,no,nama,tl): #constructor\n",
    "        self.no = no #atribut no. pegawai\n",
    "        self.nama = nama #atribut nama pegawai\n",
    "        self.tgllahir = tl #atribut tanggal lahir pegawai\n",
    "    \n",
    "    def tampilkan(self): #method untuk menampilkan no. pegawai dan nama pegawai\n",
    "        print(\"No : \", self.no,\"\\nNama : \", self.nama)\n",
    "\n",
    "    def hitungumur(self): #method untuk menghitung umur\n",
    "        today = date.today()\n",
    "        print(\"Umur : \", today.year - self.tgllahir.year - ((today.month, today.day) < (self.tgllahir.month, self.tgllahir.day)),\"Tahun\\n\")\n",
    "    \n",
    "p1 = Pegawai(\"001\", \"Hendrik\", (date(1998,11,6))) #format tanggal: (tahun,bulan,tanggal)\n",
    "p1.tampilkan()\n",
    "p1.hitungumur()\n",
    "\n",
    "p2 = Pegawai(\"002\", \"Rohman\", (date(1999,4,7)))\n",
    "p2.tampilkan()\n",
    "p2.hitungumur()\n",
    "\n",
    "p3 = Pegawai(\"003\", \"Anton\", (date(1995,12,19)))\n",
    "p3.tampilkan()\n",
    "p3.hitungumur()\n",
    "\n",
    "p4 = Pegawai(\"004\", \"Toni\", (date(1994,6,14)))\n",
    "p4.tampilkan()\n",
    "p4.hitungumur()\n",
    "\n",
    "p5 = Pegawai(\"005\", \"Budi\", (date(1993,9,10)))\n",
    "p5.tampilkan()\n",
    "p5.hitungumur()\n",
    "\n",
    "p6 = Pegawai(\"006\", \"Adi\", (date(1996,7,3)))\n",
    "p6.tampilkan()\n",
    "p6.hitungumur()\n",
    "\n",
    "p7 = Pegawai(\"007\", \"Ari\", (date(1997,10,27)))\n",
    "p7.tampilkan()\n",
    "p7.hitungumur()"
   ]
  },
  {
   "cell_type": "code",
   "execution_count": 56,
   "metadata": {},
   "outputs": [
    {
     "name": "stdout",
     "output_type": "stream",
     "text": [
      "NIM :  170411100057 \n",
      "Nama :  Hendrik\n",
      "Semester 3.0\n"
     ]
    }
   ],
   "source": [
    "from datetime import date\n",
    "\n",
    "class Mahasiswa:\n",
    "    def __init__(self,nim,nama):\n",
    "        self.nim = nim\n",
    "        self.nama = nama\n",
    "    \n",
    "    def tampilkan(self):\n",
    "        print(\"NIM : \", self.nim,\"\\nNama : \", self.nama)\n",
    "    \n",
    "    def semester(self):\n",
    "        tang = self.nim[0:2]\n",
    "        tang = int(\"20\"+str(tang))\n",
    "        today = date.today()\n",
    "        if today.month == (2,3,4,5,6,7):\n",
    "            smstr = 2\n",
    "        else:\n",
    "            smstr = 1\n",
    "        tak=int(str(today.year) + str(smstr))\n",
    "        if tak %2 != 0:\n",
    "            a=((tak+10)-1)/10\n",
    "            b=a-tang\n",
    "            c=(b*2)-1\n",
    "            print(\"Semester\", c)\n",
    "        else:\n",
    "            a=((tak+10)-2)/10\n",
    "            b=a-tang\n",
    "            c=(b*2)-2\n",
    "            print(\"Semester\", c)\n",
    "\n",
    "m1 = Mahasiswa(\"170411100057\",\"Hendrik\")\n",
    "m1.tampilkan()\n",
    "m1.semester()"
   ]
  }
 ],
 "metadata": {
  "kernelspec": {
   "display_name": "Python 3",
   "language": "python",
   "name": "python3"
  },
  "language_info": {
   "codemirror_mode": {
    "name": "ipython",
    "version": 3
   },
   "file_extension": ".py",
   "mimetype": "text/x-python",
   "name": "python",
   "nbconvert_exporter": "python",
   "pygments_lexer": "ipython3",
   "version": "3.6.5"
  }
 },
 "nbformat": 4,
 "nbformat_minor": 2
}
