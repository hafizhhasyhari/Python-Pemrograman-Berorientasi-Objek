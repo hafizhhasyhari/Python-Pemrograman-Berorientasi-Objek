{
 "cells": [
  {
   "cell_type": "markdown",
   "metadata": {},
   "source": [
    "# Polymorphisme"
   ]
  },
  {
   "cell_type": "markdown",
   "metadata": {},
   "source": [
    "Terkadang suatu objek datang dalam banyak tipe atau bentuk. Contohnya pada tombol, ada banyak hasil yang berbeda (tombol bulat, tombol cek, tombol persegi, tombol dengan gambar) tetapi mereka berbagi logika yang sama yaitu : onClick (). Kita dapat mengaksesnya menggunakan metode yang sama. Ide ini disebut Polymorphisme.\n",
    "<img src=\"img/polymorphism.jpg\">\n",
    "<br>\n",
    "<br>Kata Polimorphisme berasal dari Yunani yaitu : \n",
    "  <br>Poli (banyak) dan morphism (bentuk).\n",
    "  <br>Polymorphisme adalah cara membuat struktur yang dapat mengambil atau menggunakan banyak bentuk objek."
   ]
  },
  {
   "cell_type": "code",
   "execution_count": 6,
   "metadata": {},
   "outputs": [
    {
     "name": "stdout",
     "output_type": "stream",
     "text": [
      "The shark is swimming\n",
      "The clownfish is swimming.\n",
      "The shark is swimming\n",
      "The shark cannot swim backwards, but can sink backwards\n",
      "The shark's skeleton is made of cartilage\n",
      "The clownfish is swimming.\n",
      "The clownfish can swim backwards.\n",
      "The clownfish's skeleton is made of bone\n",
      "The shark's skeleton is made of cartilage\n",
      "The clownfish's skeleton is made of bone\n"
     ]
    }
   ],
   "source": [
    "class Shark():\n",
    "    def swim(self):\n",
    "        print(\"The shark is swimming\")\n",
    "    def swim_backwards(self):\n",
    "        print(\"The shark cannot swim backwards, but can sink backwards\")\n",
    "    def skeleton(self):\n",
    "        print(\"The shark's skeleton is made of cartilage\")\n",
    "\n",
    "class Clownfish():\n",
    "    def swim(self):\n",
    "        print(\"The clownfish is swimming.\")\n",
    "    def swim_backwards(self):\n",
    "        print(\"The clownfish can swim backwards.\")\n",
    "    def skeleton(self):\n",
    "        print(\"The clownfish's skeleton is made of bone\")\n",
    "\n",
    "#Cara No. 1 (with function)\n",
    "def in_the_pacific(fish):\n",
    "    fish.swim()\n",
    "sammy = Shark()\n",
    "casey = Clownfish()\n",
    "\n",
    "in_the_pacific(sammy)\n",
    "in_the_pacific(casey)\n",
    "\n",
    "#Cara No. 2 (with method)\n",
    "sammy = Shark()\n",
    "casey = Clownfish()\n",
    "\n",
    "for fish in(sammy,casey):\n",
    "    fish.swim()\n",
    "    fish.swim_backwards()\n",
    "    fish.skeleton()\n",
    "    \n",
    "#Cara No. 3 (biasa)\n",
    "sammy = Shark()\n",
    "sammy.skeleton()\n",
    "\n",
    "casey = Clownfish()\n",
    "casey.skeleton()"
   ]
  },
  {
   "cell_type": "markdown",
   "metadata": {},
   "source": [
    "### Abstract Class"
   ]
  },
  {
   "cell_type": "code",
   "execution_count": 7,
   "metadata": {},
   "outputs": [
    {
     "name": "stdout",
     "output_type": "stream",
     "text": [
      "4000000\n",
      "3000000\n"
     ]
    }
   ],
   "source": [
    "class Pegawai:\n",
    "    def __init__(self,name, jgaji):\n",
    "        self.name = name\n",
    "        self.jgaji = jgaji\n",
    "    def gaji(self):\n",
    "        raise NotImplementedError(\"Subclass must implement abstract method\")#ciri2 dari abstract class\n",
    "\n",
    "class Manajer(Pegawai):\n",
    "    def __init__(self,nama,jgaji,tunjangan):\n",
    "        Pegawai.__init__(self,nama,jgaji)\n",
    "        self.tunjangan = tunjangan\n",
    "    def gaji(self):\n",
    "        print(self.jgaji)\n",
    "        \n",
    "class Programmer(Pegawai):\n",
    "    def __init__(self,nama,jgaji,bonus):\n",
    "        Pegawai.__init__(self,nama,jgaji)\n",
    "        self.bonus = bonus\n",
    "    def gaji(self):\n",
    "        print(self.jgaji)\n",
    "\n",
    "sammy = Manajer(\"Sammy\",4000000,2000000)\n",
    "sammy.gaji()\n",
    "\n",
    "casey = Programmer(\"Casey\",3000000,1500000)\n",
    "casey.gaji()"
   ]
  }
 ],
 "metadata": {
  "kernelspec": {
   "display_name": "Python 3",
   "language": "python",
   "name": "python3"
  },
  "language_info": {
   "codemirror_mode": {
    "name": "ipython",
    "version": 3
   },
   "file_extension": ".py",
   "mimetype": "text/x-python",
   "name": "python",
   "nbconvert_exporter": "python",
   "pygments_lexer": "ipython3",
   "version": "3.6.5"
  }
 },
 "nbformat": 4,
 "nbformat_minor": 2
}
