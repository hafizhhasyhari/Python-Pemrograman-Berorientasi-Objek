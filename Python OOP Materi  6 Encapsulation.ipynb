{
 "cells": [
  {
   "cell_type": "markdown",
   "metadata": {},
   "source": [
    "# Encapsulation"
   ]
  },
  {
   "cell_type": "markdown",
   "metadata": {},
   "source": [
    "Encapsulation adalah cara untuk menyembunyikan properti dan method di dalam sebuah class agar properti dan method tersebut tidak dapat diakses oleh class lain.\n",
    "<br>Cara penulisan pada encapsulation adalah dengan menulis nama property atau method dengan didahului 1 atau 2 buah underscore/ garis bawah ('_') atau ('__')\n",
    "<img src=\"img/encapsulation1.png\" width=\"300\" height=\"300\">\n",
    "<img src=\"img/encapsulation2.png\" width=\"300\" height=\"300\">\n",
    "<img src=\"img/encapsulation3.png\" width=\"350\" height=\"350\">\n",
    "<img src=\"img/encapsulation4.png\" width=\"300\" height=\"300\">\n",
    "\n",
    "- Satu garis bawah: Variabel privat, tidak bisa diakses secara langsung.\n",
    "- Garis bawah ganda: Variabel privat, lebih sulit untuk diakses tetapi masih memungkinkan untuk mengaksesnya.\n",
    "\n",
    "2 Cara untuk mengakses property / method private:\n",
    " - Dengan menggunakan akses perantara, yaitu dengan cara membuat method baru, yang difungsikan untuk mengubah method atau property private menjadi public\n",
    " - Dengan mengaksesnya secara langsung, cara penulisan untuk mengakses secara langsung adalah namaobject._namaclass__namapropertyataumethod"
   ]
  },
  {
   "cell_type": "code",
   "execution_count": 30,
   "metadata": {},
   "outputs": [
    {
     "name": "stdout",
     "output_type": "stream",
     "text": [
      "Volume =  216\n",
      "Volume =  216\n",
      "6\n",
      "Sisi :  7\n"
     ]
    }
   ],
   "source": [
    "class Kubus:\n",
    "    def __init__(self):\n",
    "        self.__sisi = 4\n",
    "    def setSisi(self,sisi):\n",
    "        self.__sisi = sisi #property encapsultaion\n",
    "    def getSisi(self):\n",
    "        print(\"Sisi : \",self.__sisi)\n",
    "    def volume(self,sisi):\n",
    "        self.__updateVolume(sisi)\n",
    "    def __updateVolume(self,sisi): #method encapsulation\n",
    "        self.__sisi = sisi\n",
    "        print(\"Volume = \", self.__sisi ** 3)\n",
    "\n",
    "kubus1 = Kubus()\n",
    "kubus1.volume(6)#memanggil method dengan akses perantara\n",
    "kubus1._Kubus__updateVolume(6)#memanggil method langsung\n",
    "print(kubus1._Kubus__sisi)#memanggil atribut langsung\n",
    "kubus1.setSisi(7)\n",
    "kubus1.getSisi()#memanggil atribut dengan aksesperantara"
   ]
  },
  {
   "cell_type": "code",
   "execution_count": 1,
   "metadata": {},
   "outputs": [
    {
     "name": "stdout",
     "output_type": "stream",
     "text": [
      "123\n",
      "123\n"
     ]
    },
    {
     "ename": "AttributeError",
     "evalue": "'Robot' object has no attribute '__c'",
     "output_type": "error",
     "traceback": [
      "\u001b[0;31m---------------------------------------------------------------------------\u001b[0m",
      "\u001b[0;31mAttributeError\u001b[0m                            Traceback (most recent call last)",
      "\u001b[0;32m<ipython-input-1-390f805e6805>\u001b[0m in \u001b[0;36m<module>\u001b[0;34m()\u001b[0m\n\u001b[1;32m      8\u001b[0m \u001b[0mprint\u001b[0m\u001b[0;34m(\u001b[0m\u001b[0mobj\u001b[0m\u001b[0;34m.\u001b[0m\u001b[0ma\u001b[0m\u001b[0;34m)\u001b[0m\u001b[0;34m\u001b[0m\u001b[0m\n\u001b[1;32m      9\u001b[0m \u001b[0mprint\u001b[0m\u001b[0;34m(\u001b[0m\u001b[0mobj\u001b[0m\u001b[0;34m.\u001b[0m\u001b[0m_b\u001b[0m\u001b[0;34m)\u001b[0m\u001b[0;34m\u001b[0m\u001b[0m\n\u001b[0;32m---> 10\u001b[0;31m \u001b[0mprint\u001b[0m\u001b[0;34m(\u001b[0m\u001b[0mobj\u001b[0m\u001b[0;34m.\u001b[0m\u001b[0m__c\u001b[0m\u001b[0;34m)\u001b[0m\u001b[0;34m\u001b[0m\u001b[0m\n\u001b[0m",
      "\u001b[0;31mAttributeError\u001b[0m: 'Robot' object has no attribute '__c'"
     ]
    }
   ],
   "source": [
    "class Robot(object):\n",
    "   def __init__(self):\n",
    "      self.a = 123\n",
    "      self._b = 123\n",
    "      self.__c = 123 #tidak bisa diakses secara langsung\n",
    "\n",
    "obj = Robot()\n",
    "print(obj.a)\n",
    "print(obj._b)\n",
    "print(obj.__c)\n",
    "\n",
    "#Satu garis bawah: Variabel privat, tidak bisa diakses secara langsung.\n",
    "#Garis bawah ganda: Variabel privat, lebih sulit untuk diakses tetapi masih memungkinkan untuk mengaksesnya."
   ]
  },
  {
   "cell_type": "code",
   "execution_count": 3,
   "metadata": {},
   "outputs": [
    {
     "name": "stdout",
     "output_type": "stream",
     "text": [
      "This is a public method\n",
      "This is a private method\n",
      "This is another private Method\n"
     ]
    }
   ],
   "source": [
    "class A(object):\n",
    "    # public method\n",
    "    def myPublicMethod(self):\n",
    "        return \"This is a public method\"\n",
    "\n",
    "    # private method with single _underscore\n",
    "    def _myPrivateMethod(self):\n",
    "        return \"This is a private method\"\n",
    "\n",
    "    # private metod with double __undersore\n",
    "    def __myAnotherPrivateMethod(self):\n",
    "        return \"This is another private Method\"\n",
    "\n",
    "\n",
    "obj = A()\n",
    "# We can access the public method which is cool !!!\n",
    "print(obj.myPublicMethod())   #Output : This is a public method\n",
    "\n",
    "# Note that we can also access the private method from outside\n",
    "print(obj._myPrivateMethod()) #Output : This is a private method\n",
    "\n",
    "# However, You can still call the double underscore method\n",
    "# by appending the _class name before method name\n",
    "print(obj._A__myAnotherPrivateMethod()) #Output:This is another private Method"
   ]
  },
  {
   "cell_type": "code",
   "execution_count": 7,
   "metadata": {},
   "outputs": [
    {
     "name": "stdout",
     "output_type": "stream",
     "text": [
      "22\n",
      "23\n",
      "23\n"
     ]
    }
   ],
   "source": [
    "class Robot(object):\n",
    "   def __init__(self):\n",
    "      self.__version = 22\n",
    "\n",
    "   def getVersion(self):\n",
    "      print(self.__version)\n",
    "\n",
    "   def setVersion(self, version):\n",
    "      self.__version = version\n",
    "\n",
    "obj = Robot()\n",
    "obj.getVersion()\n",
    "obj.setVersion(23)\n",
    "obj.getVersion()\n",
    "print(obj._Robot__version)"
   ]
  },
  {
   "cell_type": "code",
   "execution_count": 8,
   "metadata": {},
   "outputs": [
    {
     "name": "stdout",
     "output_type": "stream",
     "text": [
      "updating software\n",
      "driving\n",
      "updating software\n"
     ]
    }
   ],
   "source": [
    "#Fungsi ini tidak dapat dipanggil pada objek secara langsung, hanya dari dalam kelas.\n",
    "class Car:\n",
    "\n",
    "    def __init__(self):\n",
    "        self.__updateSoftware()\n",
    "\n",
    "    def drive(self):\n",
    "        print('driving')\n",
    "\n",
    "    def __updateSoftware(self):\n",
    "        print('updating software')\n",
    "\n",
    "redcar = Car()\n",
    "redcar.drive()\n",
    "redcar._Car__updateSoftware()"
   ]
  },
  {
   "cell_type": "code",
   "execution_count": 10,
   "metadata": {},
   "outputs": [
    {
     "name": "stdout",
     "output_type": "stream",
     "text": [
      "driving. maxspeed 200\n",
      "driving. maxspeed 20\n"
     ]
    }
   ],
   "source": [
    "#Sebuah variabel privat hanya dapat diubah dalam method class dan bukan di luar class.\n",
    "class Car:\n",
    "\n",
    "    __maxspeed = 0\n",
    "    __name = \"\"\n",
    "\n",
    "    def __init__(self):\n",
    "        self.__maxspeed = 200\n",
    "        self.__name = \"Supercar\"\n",
    "\n",
    "    def drive(self):\n",
    "        print('driving. maxspeed ' + str(self.__maxspeed))\n",
    "\n",
    "redcar = Car()\n",
    "redcar.drive()\n",
    "redcar.__maxspeed = 10  # will not change variable because its private\n",
    "#redcar._Car__maxspeed = 20\n",
    "redcar.drive()"
   ]
  },
  {
   "cell_type": "code",
   "execution_count": 11,
   "metadata": {},
   "outputs": [
    {
     "name": "stdout",
     "output_type": "stream",
     "text": [
      "driving. maxspeed 200\n",
      "driving. maxspeed 10\n"
     ]
    }
   ],
   "source": [
    "class Car:\n",
    "\n",
    "    __maxspeed = 0\n",
    "    __name = \"\"\n",
    "\n",
    "    def __init__(self):\n",
    "        self.__maxspeed = 200\n",
    "        self.__name = \"Supercar\"\n",
    "\n",
    "    def drive(self):\n",
    "        print('driving. maxspeed ' + str(self.__maxspeed))\n",
    "\n",
    "    def setMaxSpeed(self,speed):\n",
    "        self.__maxspeed = speed\n",
    "\n",
    "redcar = Car()\n",
    "redcar.drive()\n",
    "redcar.setMaxSpeed(10)\n",
    "redcar.drive()"
   ]
  },
  {
   "cell_type": "code",
   "execution_count": null,
   "metadata": {},
   "outputs": [],
   "source": []
  }
 ],
 "metadata": {
  "kernelspec": {
   "display_name": "Python 3",
   "language": "python",
   "name": "python3"
  },
  "language_info": {
   "codemirror_mode": {
    "name": "ipython",
    "version": 3
   },
   "file_extension": ".py",
   "mimetype": "text/x-python",
   "name": "python",
   "nbconvert_exporter": "python",
   "pygments_lexer": "ipython3",
   "version": "3.6.5"
  }
 },
 "nbformat": 4,
 "nbformat_minor": 2
}
